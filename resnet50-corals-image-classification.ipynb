{
 "cells": [
  {
   "cell_type": "code",
   "execution_count": 1,
   "id": "261c33f7",
   "metadata": {
    "_cell_guid": "b1076dfc-b9ad-4769-8c92-a6c4dae69d19",
    "_uuid": "8f2839f25d086af736a60e9eeb907d3b93b6e0e5",
    "execution": {
     "iopub.execute_input": "2023-04-28T09:43:07.140194Z",
     "iopub.status.busy": "2023-04-28T09:43:07.139647Z",
     "iopub.status.idle": "2023-04-28T09:43:28.702022Z",
     "shell.execute_reply": "2023-04-28T09:43:28.700613Z"
    },
    "papermill": {
     "duration": 21.571941,
     "end_time": "2023-04-28T09:43:28.705105",
     "exception": false,
     "start_time": "2023-04-28T09:43:07.133164",
     "status": "completed"
    },
    "tags": []
   },
   "outputs": [
    {
     "name": "stderr",
     "output_type": "stream",
     "text": [
      "c:\\Users\\Lenovo\\anaconda3\\Lib\\site-packages\\pandas\\core\\arrays\\masked.py:60: UserWarning: Pandas requires version '1.3.6' or newer of 'bottleneck' (version '1.3.5' currently installed).\n",
      "  from pandas.core import (\n"
     ]
    },
    {
     "ename": "OSError",
     "evalue": "SavedModel file does not exist at: /kaggle/input/corals-image-classification-resnet50/ResNet50\\{saved_model.pbtxt|saved_model.pb}",
     "output_type": "error",
     "traceback": [
      "\u001b[1;31m---------------------------------------------------------------------------\u001b[0m",
      "\u001b[1;31mOSError\u001b[0m                                   Traceback (most recent call last)",
      "Cell \u001b[1;32mIn[1], line 5\u001b[0m\n\u001b[0;32m      2\u001b[0m \u001b[38;5;28;01mimport\u001b[39;00m \u001b[38;5;21;01mnumpy\u001b[39;00m \u001b[38;5;28;01mas\u001b[39;00m \u001b[38;5;21;01mnp\u001b[39;00m \n\u001b[0;32m      3\u001b[0m \u001b[38;5;28;01mfrom\u001b[39;00m \u001b[38;5;21;01mPIL\u001b[39;00m \u001b[38;5;28;01mimport\u001b[39;00m Image\n\u001b[1;32m----> 5\u001b[0m model \u001b[38;5;241m=\u001b[39m tf\u001b[38;5;241m.\u001b[39msaved_model\u001b[38;5;241m.\u001b[39mload(\u001b[38;5;124m'\u001b[39m\u001b[38;5;124m/kaggle/input/corals-image-classification-resnet50/ResNet50\u001b[39m\u001b[38;5;124m'\u001b[39m)\n\u001b[0;32m      6\u001b[0m classes \u001b[38;5;241m=\u001b[39m [ \u001b[38;5;124m\"\u001b[39m\u001b[38;5;124mbleached\u001b[39m\u001b[38;5;124m\"\u001b[39m ,  \u001b[38;5;124m\"\u001b[39m\u001b[38;5;124mhealthy\u001b[39m\u001b[38;5;124m\"\u001b[39m , ]\n",
      "File \u001b[1;32mc:\\Users\\Lenovo\\anaconda3\\Lib\\site-packages\\tensorflow\\python\\saved_model\\load.py:912\u001b[0m, in \u001b[0;36mload\u001b[1;34m(export_dir, tags, options)\u001b[0m\n\u001b[0;32m    910\u001b[0m \u001b[38;5;28;01mif\u001b[39;00m \u001b[38;5;28misinstance\u001b[39m(export_dir, os\u001b[38;5;241m.\u001b[39mPathLike):\n\u001b[0;32m    911\u001b[0m   export_dir \u001b[38;5;241m=\u001b[39m os\u001b[38;5;241m.\u001b[39mfspath(export_dir)\n\u001b[1;32m--> 912\u001b[0m result \u001b[38;5;241m=\u001b[39m load_partial(export_dir, \u001b[38;5;28;01mNone\u001b[39;00m, tags, options)[\u001b[38;5;124m\"\u001b[39m\u001b[38;5;124mroot\u001b[39m\u001b[38;5;124m\"\u001b[39m]\n\u001b[0;32m    913\u001b[0m \u001b[38;5;28;01mreturn\u001b[39;00m result\n",
      "File \u001b[1;32mc:\\Users\\Lenovo\\anaconda3\\Lib\\site-packages\\tensorflow\\python\\saved_model\\load.py:1016\u001b[0m, in \u001b[0;36mload_partial\u001b[1;34m(export_dir, filters, tags, options)\u001b[0m\n\u001b[0;32m   1011\u001b[0m \u001b[38;5;28;01mif\u001b[39;00m tags \u001b[38;5;129;01mis\u001b[39;00m \u001b[38;5;129;01mnot\u001b[39;00m \u001b[38;5;28;01mNone\u001b[39;00m \u001b[38;5;129;01mand\u001b[39;00m \u001b[38;5;129;01mnot\u001b[39;00m \u001b[38;5;28misinstance\u001b[39m(tags, \u001b[38;5;28mset\u001b[39m):\n\u001b[0;32m   1012\u001b[0m   \u001b[38;5;66;03m# Supports e.g. tags=SERVING and tags=[SERVING]. Sets aren't considered\u001b[39;00m\n\u001b[0;32m   1013\u001b[0m   \u001b[38;5;66;03m# sequences for nest.flatten, so we put those through as-is.\u001b[39;00m\n\u001b[0;32m   1014\u001b[0m   tags \u001b[38;5;241m=\u001b[39m nest\u001b[38;5;241m.\u001b[39mflatten(tags)\n\u001b[0;32m   1015\u001b[0m saved_model_proto, debug_info \u001b[38;5;241m=\u001b[39m (\n\u001b[1;32m-> 1016\u001b[0m     loader_impl\u001b[38;5;241m.\u001b[39mparse_saved_model_with_debug_info(export_dir))\n\u001b[0;32m   1018\u001b[0m loader \u001b[38;5;241m=\u001b[39m \u001b[38;5;28;01mNone\u001b[39;00m\n\u001b[0;32m   1019\u001b[0m \u001b[38;5;28;01mif\u001b[39;00m (\u001b[38;5;28mlen\u001b[39m(saved_model_proto\u001b[38;5;241m.\u001b[39mmeta_graphs) \u001b[38;5;241m==\u001b[39m \u001b[38;5;241m1\u001b[39m \u001b[38;5;129;01mand\u001b[39;00m\n\u001b[0;32m   1020\u001b[0m     saved_model_proto\u001b[38;5;241m.\u001b[39mmeta_graphs[\u001b[38;5;241m0\u001b[39m]\u001b[38;5;241m.\u001b[39mHasField(\u001b[38;5;124m\"\u001b[39m\u001b[38;5;124mobject_graph_def\u001b[39m\u001b[38;5;124m\"\u001b[39m)):\n",
      "File \u001b[1;32mc:\\Users\\Lenovo\\anaconda3\\Lib\\site-packages\\tensorflow\\python\\saved_model\\loader_impl.py:59\u001b[0m, in \u001b[0;36mparse_saved_model_with_debug_info\u001b[1;34m(export_dir)\u001b[0m\n\u001b[0;32m     46\u001b[0m \u001b[38;5;28;01mdef\u001b[39;00m \u001b[38;5;21mparse_saved_model_with_debug_info\u001b[39m(export_dir):\n\u001b[0;32m     47\u001b[0m \u001b[38;5;250m  \u001b[39m\u001b[38;5;124;03m\"\"\"Reads the savedmodel as well as the graph debug info.\u001b[39;00m\n\u001b[0;32m     48\u001b[0m \n\u001b[0;32m     49\u001b[0m \u001b[38;5;124;03m  Args:\u001b[39;00m\n\u001b[1;32m   (...)\u001b[0m\n\u001b[0;32m     57\u001b[0m \u001b[38;5;124;03m    parsed. Missing graph debug info file is fine.\u001b[39;00m\n\u001b[0;32m     58\u001b[0m \u001b[38;5;124;03m  \"\"\"\u001b[39;00m\n\u001b[1;32m---> 59\u001b[0m   saved_model \u001b[38;5;241m=\u001b[39m parse_saved_model(export_dir)\n\u001b[0;32m     61\u001b[0m   debug_info_path \u001b[38;5;241m=\u001b[39m file_io\u001b[38;5;241m.\u001b[39mjoin(\n\u001b[0;32m     62\u001b[0m       path_helpers\u001b[38;5;241m.\u001b[39mget_debug_dir(export_dir),\n\u001b[0;32m     63\u001b[0m       constants\u001b[38;5;241m.\u001b[39mDEBUG_INFO_FILENAME_PB)\n\u001b[0;32m     64\u001b[0m   debug_info \u001b[38;5;241m=\u001b[39m graph_debug_info_pb2\u001b[38;5;241m.\u001b[39mGraphDebugInfo()\n",
      "File \u001b[1;32mc:\\Users\\Lenovo\\anaconda3\\Lib\\site-packages\\tensorflow\\python\\saved_model\\loader_impl.py:119\u001b[0m, in \u001b[0;36mparse_saved_model\u001b[1;34m(export_dir)\u001b[0m\n\u001b[0;32m    117\u001b[0m     \u001b[38;5;28;01mraise\u001b[39;00m \u001b[38;5;167;01mIOError\u001b[39;00m(\u001b[38;5;124mf\u001b[39m\u001b[38;5;124m\"\u001b[39m\u001b[38;5;124mCannot parse file \u001b[39m\u001b[38;5;132;01m{\u001b[39;00mpath_to_pbtxt\u001b[38;5;132;01m}\u001b[39;00m\u001b[38;5;124m: \u001b[39m\u001b[38;5;132;01m{\u001b[39;00m\u001b[38;5;28mstr\u001b[39m(e)\u001b[38;5;132;01m}\u001b[39;00m\u001b[38;5;124m.\u001b[39m\u001b[38;5;124m\"\u001b[39m) \u001b[38;5;28;01mfrom\u001b[39;00m \u001b[38;5;21;01me\u001b[39;00m\n\u001b[0;32m    118\u001b[0m \u001b[38;5;28;01melse\u001b[39;00m:\n\u001b[1;32m--> 119\u001b[0m   \u001b[38;5;28;01mraise\u001b[39;00m \u001b[38;5;167;01mIOError\u001b[39;00m(\n\u001b[0;32m    120\u001b[0m       \u001b[38;5;124mf\u001b[39m\u001b[38;5;124m\"\u001b[39m\u001b[38;5;124mSavedModel file does not exist at: \u001b[39m\u001b[38;5;132;01m{\u001b[39;00mexport_dir\u001b[38;5;132;01m}\u001b[39;00m\u001b[38;5;132;01m{\u001b[39;00mos\u001b[38;5;241m.\u001b[39mpath\u001b[38;5;241m.\u001b[39msep\u001b[38;5;132;01m}\u001b[39;00m\u001b[38;5;124m\"\u001b[39m\n\u001b[0;32m    121\u001b[0m       \u001b[38;5;124mf\u001b[39m\u001b[38;5;124m\"\u001b[39m\u001b[38;5;130;01m{{\u001b[39;00m\u001b[38;5;132;01m{\u001b[39;00mconstants\u001b[38;5;241m.\u001b[39mSAVED_MODEL_FILENAME_PBTXT\u001b[38;5;132;01m}\u001b[39;00m\u001b[38;5;124m|\u001b[39m\u001b[38;5;124m\"\u001b[39m\n\u001b[0;32m    122\u001b[0m       \u001b[38;5;124mf\u001b[39m\u001b[38;5;124m\"\u001b[39m\u001b[38;5;132;01m{\u001b[39;00mconstants\u001b[38;5;241m.\u001b[39mSAVED_MODEL_FILENAME_PB\u001b[38;5;132;01m}\u001b[39;00m\u001b[38;5;130;01m}}\u001b[39;00m\u001b[38;5;124m\"\u001b[39m)\n\u001b[0;32m    123\u001b[0m \u001b[38;5;28;01mreturn\u001b[39;00m saved_model\n",
      "\u001b[1;31mOSError\u001b[0m: SavedModel file does not exist at: /kaggle/input/corals-image-classification-resnet50/ResNet50\\{saved_model.pbtxt|saved_model.pb}"
     ]
    }
   ],
   "source": [
    "import tensorflow as tf\n",
    "import numpy as np \n",
    "from PIL import Image\n",
    "\n",
    "model = tf.saved_model.load('/kaggle/input/corals-image-classification-resnet50/ResNet50')\n",
    "classes = [ \"bleached\" ,  \"healthy\" , ]"
   ]
  },
  {
   "cell_type": "code",
   "execution_count": 2,
   "id": "14b0830e",
   "metadata": {
    "execution": {
     "iopub.execute_input": "2023-04-28T09:43:28.714372Z",
     "iopub.status.busy": "2023-04-28T09:43:28.713262Z",
     "iopub.status.idle": "2023-04-28T09:43:28.753000Z",
     "shell.execute_reply": "2023-04-28T09:43:28.751859Z"
    },
    "papermill": {
     "duration": 0.048337,
     "end_time": "2023-04-28T09:43:28.756995",
     "exception": false,
     "start_time": "2023-04-28T09:43:28.708658",
     "status": "completed"
    },
    "tags": []
   },
   "outputs": [
    {
     "data": {
      "text/html": [
       "<div>\n",
       "<style scoped>\n",
       "    .dataframe tbody tr th:only-of-type {\n",
       "        vertical-align: middle;\n",
       "    }\n",
       "\n",
       "    .dataframe tbody tr th {\n",
       "        vertical-align: top;\n",
       "    }\n",
       "\n",
       "    .dataframe thead th {\n",
       "        text-align: right;\n",
       "    }\n",
       "</style>\n",
       "<table border=\"1\" class=\"dataframe\">\n",
       "  <thead>\n",
       "    <tr style=\"text-align: right;\">\n",
       "      <th></th>\n",
       "      <th>filename</th>\n",
       "      <th>label</th>\n",
       "    </tr>\n",
       "  </thead>\n",
       "  <tbody>\n",
       "    <tr>\n",
       "      <th>0</th>\n",
       "      <td>/kaggle/input/healthy-and-bleached-corals-imag...</td>\n",
       "      <td>healthy</td>\n",
       "    </tr>\n",
       "    <tr>\n",
       "      <th>1</th>\n",
       "      <td>/kaggle/input/healthy-and-bleached-corals-imag...</td>\n",
       "      <td>bleached</td>\n",
       "    </tr>\n",
       "    <tr>\n",
       "      <th>2</th>\n",
       "      <td>/kaggle/input/healthy-and-bleached-corals-imag...</td>\n",
       "      <td>healthy</td>\n",
       "    </tr>\n",
       "    <tr>\n",
       "      <th>3</th>\n",
       "      <td>/kaggle/input/healthy-and-bleached-corals-imag...</td>\n",
       "      <td>healthy</td>\n",
       "    </tr>\n",
       "    <tr>\n",
       "      <th>4</th>\n",
       "      <td>/kaggle/input/healthy-and-bleached-corals-imag...</td>\n",
       "      <td>bleached</td>\n",
       "    </tr>\n",
       "  </tbody>\n",
       "</table>\n",
       "</div>"
      ],
      "text/plain": [
       "                                            filename     label\n",
       "0  /kaggle/input/healthy-and-bleached-corals-imag...   healthy\n",
       "1  /kaggle/input/healthy-and-bleached-corals-imag...  bleached\n",
       "2  /kaggle/input/healthy-and-bleached-corals-imag...   healthy\n",
       "3  /kaggle/input/healthy-and-bleached-corals-imag...   healthy\n",
       "4  /kaggle/input/healthy-and-bleached-corals-imag...  bleached"
      ]
     },
     "execution_count": 2,
     "metadata": {},
     "output_type": "execute_result"
    }
   ],
   "source": [
    "import pandas as pd\n",
    "test=pd.read_csv('/kaggle/input/corals-image-classification/test.csv')\n",
    "test.head()"
   ]
  },
  {
   "cell_type": "code",
   "execution_count": 3,
   "id": "7c1fb972",
   "metadata": {
    "execution": {
     "iopub.execute_input": "2023-04-28T09:43:28.766200Z",
     "iopub.status.busy": "2023-04-28T09:43:28.765790Z",
     "iopub.status.idle": "2023-04-28T09:44:25.633283Z",
     "shell.execute_reply": "2023-04-28T09:44:25.632231Z"
    },
    "papermill": {
     "duration": 56.87507,
     "end_time": "2023-04-28T09:44:25.635706",
     "exception": false,
     "start_time": "2023-04-28T09:43:28.760636",
     "status": "completed"
    },
    "tags": []
   },
   "outputs": [
    {
     "name": "stderr",
     "output_type": "stream",
     "text": [
      "/opt/conda/lib/python3.7/site-packages/ipykernel_launcher.py:4: DeprecationWarning: ANTIALIAS is deprecated and will be removed in Pillow 10 (2023-07-01). Use LANCZOS or Resampling.LANCZOS instead.\n",
      "  after removing the cwd from sys.path.\n"
     ]
    },
    {
     "data": {
      "text/plain": [
       "['healthy', 'healthy', 'healthy', 'healthy', 'healthy']"
      ]
     },
     "execution_count": 3,
     "metadata": {},
     "output_type": "execute_result"
    }
   ],
   "source": [
    "result=[]\n",
    "for i in test.filename:\n",
    "    img = Image.open(i).convert('RGB')\n",
    "    img = img.resize((300, 300 * img.size[1] // img.size[0]), Image.ANTIALIAS)\n",
    "    inp_numpy = np.array(img)[None]\n",
    "    inp = tf.constant(inp_numpy, dtype='float32')\n",
    "    class_scores = model(inp)[0].numpy()\n",
    "    result.append(classes[class_scores.argmax()])\n",
    "result[:5]"
   ]
  },
  {
   "cell_type": "code",
   "execution_count": 4,
   "id": "7f77d024",
   "metadata": {
    "execution": {
     "iopub.execute_input": "2023-04-28T09:44:25.644978Z",
     "iopub.status.busy": "2023-04-28T09:44:25.644334Z",
     "iopub.status.idle": "2023-04-28T09:44:25.655883Z",
     "shell.execute_reply": "2023-04-28T09:44:25.654918Z"
    },
    "papermill": {
     "duration": 0.019325,
     "end_time": "2023-04-28T09:44:25.658593",
     "exception": false,
     "start_time": "2023-04-28T09:44:25.639268",
     "status": "completed"
    },
    "tags": []
   },
   "outputs": [
    {
     "data": {
      "text/html": [
       "<div>\n",
       "<style scoped>\n",
       "    .dataframe tbody tr th:only-of-type {\n",
       "        vertical-align: middle;\n",
       "    }\n",
       "\n",
       "    .dataframe tbody tr th {\n",
       "        vertical-align: top;\n",
       "    }\n",
       "\n",
       "    .dataframe thead th {\n",
       "        text-align: right;\n",
       "    }\n",
       "</style>\n",
       "<table border=\"1\" class=\"dataframe\">\n",
       "  <thead>\n",
       "    <tr style=\"text-align: right;\">\n",
       "      <th></th>\n",
       "      <th>filename</th>\n",
       "      <th>label</th>\n",
       "      <th>prediction</th>\n",
       "    </tr>\n",
       "  </thead>\n",
       "  <tbody>\n",
       "    <tr>\n",
       "      <th>0</th>\n",
       "      <td>/kaggle/input/healthy-and-bleached-corals-imag...</td>\n",
       "      <td>healthy</td>\n",
       "      <td>healthy</td>\n",
       "    </tr>\n",
       "    <tr>\n",
       "      <th>1</th>\n",
       "      <td>/kaggle/input/healthy-and-bleached-corals-imag...</td>\n",
       "      <td>bleached</td>\n",
       "      <td>healthy</td>\n",
       "    </tr>\n",
       "    <tr>\n",
       "      <th>2</th>\n",
       "      <td>/kaggle/input/healthy-and-bleached-corals-imag...</td>\n",
       "      <td>healthy</td>\n",
       "      <td>healthy</td>\n",
       "    </tr>\n",
       "    <tr>\n",
       "      <th>3</th>\n",
       "      <td>/kaggle/input/healthy-and-bleached-corals-imag...</td>\n",
       "      <td>healthy</td>\n",
       "      <td>healthy</td>\n",
       "    </tr>\n",
       "    <tr>\n",
       "      <th>4</th>\n",
       "      <td>/kaggle/input/healthy-and-bleached-corals-imag...</td>\n",
       "      <td>bleached</td>\n",
       "      <td>healthy</td>\n",
       "    </tr>\n",
       "  </tbody>\n",
       "</table>\n",
       "</div>"
      ],
      "text/plain": [
       "                                            filename     label prediction\n",
       "0  /kaggle/input/healthy-and-bleached-corals-imag...   healthy    healthy\n",
       "1  /kaggle/input/healthy-and-bleached-corals-imag...  bleached    healthy\n",
       "2  /kaggle/input/healthy-and-bleached-corals-imag...   healthy    healthy\n",
       "3  /kaggle/input/healthy-and-bleached-corals-imag...   healthy    healthy\n",
       "4  /kaggle/input/healthy-and-bleached-corals-imag...  bleached    healthy"
      ]
     },
     "execution_count": 4,
     "metadata": {},
     "output_type": "execute_result"
    }
   ],
   "source": [
    "test=test.assign(prediction=result)\n",
    "test.head()"
   ]
  },
  {
   "cell_type": "code",
   "execution_count": 5,
   "id": "c3c101b5",
   "metadata": {
    "execution": {
     "iopub.execute_input": "2023-04-28T09:44:25.668685Z",
     "iopub.status.busy": "2023-04-28T09:44:25.668044Z",
     "iopub.status.idle": "2023-04-28T09:44:25.686449Z",
     "shell.execute_reply": "2023-04-28T09:44:25.685570Z"
    },
    "papermill": {
     "duration": 0.026125,
     "end_time": "2023-04-28T09:44:25.688720",
     "exception": false,
     "start_time": "2023-04-28T09:44:25.662595",
     "status": "completed"
    },
    "tags": []
   },
   "outputs": [
    {
     "data": {
      "text/html": [
       "<div>\n",
       "<style scoped>\n",
       "    .dataframe tbody tr th:only-of-type {\n",
       "        vertical-align: middle;\n",
       "    }\n",
       "\n",
       "    .dataframe tbody tr th {\n",
       "        vertical-align: top;\n",
       "    }\n",
       "\n",
       "    .dataframe thead th {\n",
       "        text-align: right;\n",
       "    }\n",
       "</style>\n",
       "<table border=\"1\" class=\"dataframe\">\n",
       "  <thead>\n",
       "    <tr style=\"text-align: right;\">\n",
       "      <th></th>\n",
       "      <th>filename</th>\n",
       "      <th>label</th>\n",
       "    </tr>\n",
       "  </thead>\n",
       "  <tbody>\n",
       "    <tr>\n",
       "      <th>0</th>\n",
       "      <td>/kaggle/input/healthy-and-bleached-corals-imag...</td>\n",
       "      <td>healthy</td>\n",
       "    </tr>\n",
       "    <tr>\n",
       "      <th>1</th>\n",
       "      <td>/kaggle/input/healthy-and-bleached-corals-imag...</td>\n",
       "      <td>healthy</td>\n",
       "    </tr>\n",
       "    <tr>\n",
       "      <th>2</th>\n",
       "      <td>/kaggle/input/healthy-and-bleached-corals-imag...</td>\n",
       "      <td>healthy</td>\n",
       "    </tr>\n",
       "    <tr>\n",
       "      <th>3</th>\n",
       "      <td>/kaggle/input/healthy-and-bleached-corals-imag...</td>\n",
       "      <td>healthy</td>\n",
       "    </tr>\n",
       "    <tr>\n",
       "      <th>4</th>\n",
       "      <td>/kaggle/input/healthy-and-bleached-corals-imag...</td>\n",
       "      <td>bleached</td>\n",
       "    </tr>\n",
       "  </tbody>\n",
       "</table>\n",
       "</div>"
      ],
      "text/plain": [
       "                                            filename     label\n",
       "0  /kaggle/input/healthy-and-bleached-corals-imag...   healthy\n",
       "1  /kaggle/input/healthy-and-bleached-corals-imag...   healthy\n",
       "2  /kaggle/input/healthy-and-bleached-corals-imag...   healthy\n",
       "3  /kaggle/input/healthy-and-bleached-corals-imag...   healthy\n",
       "4  /kaggle/input/healthy-and-bleached-corals-imag...  bleached"
      ]
     },
     "execution_count": 5,
     "metadata": {},
     "output_type": "execute_result"
    }
   ],
   "source": [
    "train=pd.read_csv('/kaggle/input/corals-image-classification/train.csv')\n",
    "train.head()"
   ]
  },
  {
   "cell_type": "code",
   "execution_count": 6,
   "id": "5f2df73c",
   "metadata": {
    "execution": {
     "iopub.execute_input": "2023-04-28T09:44:25.698818Z",
     "iopub.status.busy": "2023-04-28T09:44:25.698356Z",
     "iopub.status.idle": "2023-04-28T09:46:59.999106Z",
     "shell.execute_reply": "2023-04-28T09:46:59.997716Z"
    },
    "papermill": {
     "duration": 154.312598,
     "end_time": "2023-04-28T09:47:00.005337",
     "exception": false,
     "start_time": "2023-04-28T09:44:25.692739",
     "status": "completed"
    },
    "tags": []
   },
   "outputs": [
    {
     "name": "stderr",
     "output_type": "stream",
     "text": [
      "/opt/conda/lib/python3.7/site-packages/ipykernel_launcher.py:4: DeprecationWarning: ANTIALIAS is deprecated and will be removed in Pillow 10 (2023-07-01). Use LANCZOS or Resampling.LANCZOS instead.\n",
      "  after removing the cwd from sys.path.\n"
     ]
    },
    {
     "data": {
      "text/plain": [
       "['bleached', 'healthy', 'healthy', 'healthy', 'bleached']"
      ]
     },
     "execution_count": 6,
     "metadata": {},
     "output_type": "execute_result"
    }
   ],
   "source": [
    "result=[]\n",
    "for i in train.filename:\n",
    "    img = Image.open(i).convert('RGB')\n",
    "    img = img.resize((300, 300 * img.size[1] // img.size[0]), Image.ANTIALIAS)\n",
    "    inp_numpy = np.array(img)[None]\n",
    "    inp = tf.constant(inp_numpy, dtype='float32')\n",
    "    class_scores = model(inp)[0].numpy()\n",
    "    result.append(classes[class_scores.argmax()])\n",
    "result[:5]"
   ]
  },
  {
   "cell_type": "code",
   "execution_count": 7,
   "id": "174b5504",
   "metadata": {
    "execution": {
     "iopub.execute_input": "2023-04-28T09:47:00.016255Z",
     "iopub.status.busy": "2023-04-28T09:47:00.015871Z",
     "iopub.status.idle": "2023-04-28T09:47:00.029013Z",
     "shell.execute_reply": "2023-04-28T09:47:00.028085Z"
    },
    "papermill": {
     "duration": 0.021783,
     "end_time": "2023-04-28T09:47:00.031406",
     "exception": false,
     "start_time": "2023-04-28T09:47:00.009623",
     "status": "completed"
    },
    "tags": []
   },
   "outputs": [
    {
     "data": {
      "text/html": [
       "<div>\n",
       "<style scoped>\n",
       "    .dataframe tbody tr th:only-of-type {\n",
       "        vertical-align: middle;\n",
       "    }\n",
       "\n",
       "    .dataframe tbody tr th {\n",
       "        vertical-align: top;\n",
       "    }\n",
       "\n",
       "    .dataframe thead th {\n",
       "        text-align: right;\n",
       "    }\n",
       "</style>\n",
       "<table border=\"1\" class=\"dataframe\">\n",
       "  <thead>\n",
       "    <tr style=\"text-align: right;\">\n",
       "      <th></th>\n",
       "      <th>filename</th>\n",
       "      <th>label</th>\n",
       "      <th>prediction</th>\n",
       "    </tr>\n",
       "  </thead>\n",
       "  <tbody>\n",
       "    <tr>\n",
       "      <th>0</th>\n",
       "      <td>/kaggle/input/healthy-and-bleached-corals-imag...</td>\n",
       "      <td>healthy</td>\n",
       "      <td>bleached</td>\n",
       "    </tr>\n",
       "    <tr>\n",
       "      <th>1</th>\n",
       "      <td>/kaggle/input/healthy-and-bleached-corals-imag...</td>\n",
       "      <td>healthy</td>\n",
       "      <td>healthy</td>\n",
       "    </tr>\n",
       "    <tr>\n",
       "      <th>2</th>\n",
       "      <td>/kaggle/input/healthy-and-bleached-corals-imag...</td>\n",
       "      <td>healthy</td>\n",
       "      <td>healthy</td>\n",
       "    </tr>\n",
       "    <tr>\n",
       "      <th>3</th>\n",
       "      <td>/kaggle/input/healthy-and-bleached-corals-imag...</td>\n",
       "      <td>healthy</td>\n",
       "      <td>healthy</td>\n",
       "    </tr>\n",
       "    <tr>\n",
       "      <th>4</th>\n",
       "      <td>/kaggle/input/healthy-and-bleached-corals-imag...</td>\n",
       "      <td>bleached</td>\n",
       "      <td>bleached</td>\n",
       "    </tr>\n",
       "  </tbody>\n",
       "</table>\n",
       "</div>"
      ],
      "text/plain": [
       "                                            filename     label prediction\n",
       "0  /kaggle/input/healthy-and-bleached-corals-imag...   healthy   bleached\n",
       "1  /kaggle/input/healthy-and-bleached-corals-imag...   healthy    healthy\n",
       "2  /kaggle/input/healthy-and-bleached-corals-imag...   healthy    healthy\n",
       "3  /kaggle/input/healthy-and-bleached-corals-imag...   healthy    healthy\n",
       "4  /kaggle/input/healthy-and-bleached-corals-imag...  bleached   bleached"
      ]
     },
     "execution_count": 7,
     "metadata": {},
     "output_type": "execute_result"
    }
   ],
   "source": [
    "train=train.assign(prediction=result)\n",
    "train.head()"
   ]
  },
  {
   "cell_type": "code",
   "execution_count": 8,
   "id": "ec8626da",
   "metadata": {
    "execution": {
     "iopub.execute_input": "2023-04-28T09:47:00.042368Z",
     "iopub.status.busy": "2023-04-28T09:47:00.041666Z",
     "iopub.status.idle": "2023-04-28T09:47:00.945901Z",
     "shell.execute_reply": "2023-04-28T09:47:00.943963Z"
    },
    "papermill": {
     "duration": 0.913,
     "end_time": "2023-04-28T09:47:00.948847",
     "exception": false,
     "start_time": "2023-04-28T09:47:00.035847",
     "status": "completed"
    },
    "tags": []
   },
   "outputs": [
    {
     "name": "stdout",
     "output_type": "stream",
     "text": [
      "              precision    recall  f1-score   support\n",
      "\n",
      "    bleached       0.91      0.85      0.88       381\n",
      "     healthy       0.85      0.90      0.88       357\n",
      "\n",
      "    accuracy                           0.88       738\n",
      "   macro avg       0.88      0.88      0.88       738\n",
      "weighted avg       0.88      0.88      0.88       738\n",
      "\n"
     ]
    }
   ],
   "source": [
    "from sklearn.metrics import classification_report\n",
    "print(classification_report(train['label'],train['prediction']))"
   ]
  },
  {
   "cell_type": "code",
   "execution_count": 9,
   "id": "6e75468a",
   "metadata": {
    "execution": {
     "iopub.execute_input": "2023-04-28T09:47:00.960142Z",
     "iopub.status.busy": "2023-04-28T09:47:00.959732Z",
     "iopub.status.idle": "2023-04-28T09:47:00.976562Z",
     "shell.execute_reply": "2023-04-28T09:47:00.974875Z"
    },
    "papermill": {
     "duration": 0.025882,
     "end_time": "2023-04-28T09:47:00.979207",
     "exception": false,
     "start_time": "2023-04-28T09:47:00.953325",
     "status": "completed"
    },
    "tags": []
   },
   "outputs": [
    {
     "name": "stdout",
     "output_type": "stream",
     "text": [
      "              precision    recall  f1-score   support\n",
      "\n",
      "    bleached       0.77      0.74      0.75       104\n",
      "     healthy       0.68      0.72      0.70        81\n",
      "\n",
      "    accuracy                           0.73       185\n",
      "   macro avg       0.73      0.73      0.73       185\n",
      "weighted avg       0.73      0.73      0.73       185\n",
      "\n"
     ]
    }
   ],
   "source": [
    "print(classification_report(test['label'],test['prediction']))"
   ]
  }
 ],
 "metadata": {
  "kernelspec": {
   "display_name": "Python 3",
   "language": "python",
   "name": "python3"
  },
  "language_info": {
   "codemirror_mode": {
    "name": "ipython",
    "version": 3
   },
   "file_extension": ".py",
   "mimetype": "text/x-python",
   "name": "python",
   "nbconvert_exporter": "python",
   "pygments_lexer": "ipython3",
   "version": "3.11.5"
  },
  "papermill": {
   "default_parameters": {},
   "duration": 247.647315,
   "end_time": "2023-04-28T09:47:03.705690",
   "environment_variables": {},
   "exception": null,
   "input_path": "__notebook__.ipynb",
   "output_path": "__notebook__.ipynb",
   "parameters": {},
   "start_time": "2023-04-28T09:42:56.058375",
   "version": "2.4.0"
  }
 },
 "nbformat": 4,
 "nbformat_minor": 5
}
